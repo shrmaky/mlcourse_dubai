{
 "cells": [
  {
   "cell_type": "markdown",
   "metadata": {},
   "source": [
    "# Numpy\n",
    "- based on https://github.com/mephistopheies/mlworkshop39_042017/blob/master/0_python_intro/%D0%A3%D0%BF%D1%80%D0%B0%D0%B6%D0%BD%D0%B5%D0%BD%D0%B8%D1%8F.ipynb\n",
    "\n",
    "<img src=\"trainings1.jpg\" />"
   ]
  },
  {
   "cell_type": "markdown",
   "metadata": {},
   "source": [
    "## Task 0\n",
    "- import numpy"
   ]
  },
  {
   "cell_type": "code",
   "execution_count": 1,
   "metadata": {},
   "outputs": [],
   "source": [
    "import numpy as np"
   ]
  },
  {
   "cell_type": "markdown",
   "metadata": {},
   "source": [
    "## Task 1\n",
    "- print version of numpy"
   ]
  },
  {
   "cell_type": "code",
   "execution_count": 3,
   "metadata": {},
   "outputs": [
    {
     "name": "stdout",
     "output_type": "stream",
     "text": [
      "1.17.0\n"
     ]
    }
   ],
   "source": [
    "print(np.version.version)"
   ]
  },
  {
   "cell_type": "markdown",
   "metadata": {},
   "source": [
    "## Task 2\n",
    "- create 1d vector of zeros of size 10"
   ]
  },
  {
   "cell_type": "code",
   "execution_count": 20,
   "metadata": {},
   "outputs": [
    {
     "name": "stdout",
     "output_type": "stream",
     "text": [
      "[0. 0. 0. 0. 0. 0. 0. 0. 0. 0.]\n",
      "(10,)\n"
     ]
    }
   ],
   "source": [
    "vecA = np.zeros((10))\n",
    "print(vecA)\n",
    "print(vecA.shape) #To verify that the vector is 1d or not"
   ]
  },
  {
   "cell_type": "markdown",
   "metadata": {},
   "source": [
    "## Task 3\n",
    "- create 1d vector filled with ones of size 10"
   ]
  },
  {
   "cell_type": "code",
   "execution_count": 6,
   "metadata": {},
   "outputs": [
    {
     "name": "stdout",
     "output_type": "stream",
     "text": [
      "[1. 1. 1. 1. 1. 1. 1. 1. 1. 1.]\n"
     ]
    }
   ],
   "source": [
    "vecB = np.ones((10))\n",
    "print(vecB)"
   ]
  },
  {
   "cell_type": "markdown",
   "metadata": {},
   "source": [
    "## Task 4\n",
    "- create 1d vector filled with ones of size 10,"
   ]
  },
  {
   "cell_type": "code",
   "execution_count": 8,
   "metadata": {},
   "outputs": [
    {
     "name": "stdout",
     "output_type": "stream",
     "text": [
      "[[1. 1. 1. 1. 1. 1. 1. 1. 1. 1.]\n",
      " [1. 1. 1. 1. 1. 1. 1. 1. 1. 1.]\n",
      " [1. 1. 1. 1. 1. 1. 1. 1. 1. 1.]\n",
      " [1. 1. 1. 1. 1. 1. 1. 1. 1. 1.]\n",
      " [1. 1. 1. 1. 1. 1. 1. 1. 1. 1.]\n",
      " [1. 1. 1. 1. 1. 1. 1. 1. 1. 1.]\n",
      " [1. 1. 1. 1. 1. 1. 1. 1. 1. 1.]\n",
      " [1. 1. 1. 1. 1. 1. 1. 1. 1. 1.]\n",
      " [1. 1. 1. 1. 1. 1. 1. 1. 1. 1.]\n",
      " [1. 1. 1. 1. 1. 1. 1. 1. 1. 1.]]\n"
     ]
    }
   ],
   "source": [
    "vecC = np.ones((10,10))\n",
    "print(vecC)"
   ]
  },
  {
   "cell_type": "markdown",
   "metadata": {},
   "source": [
    "## Task 5\n",
    "- crete 1d vector filled with numbers from 10 to 49"
   ]
  },
  {
   "cell_type": "code",
   "execution_count": 24,
   "metadata": {},
   "outputs": [
    {
     "name": "stdout",
     "output_type": "stream",
     "text": [
      "[10, 11, 12, 13, 14, 15, 16, 17, 18, 19, 20, 21, 22, 23, 24, 25, 26, 27, 28, 29, 30, 31, 32, 33, 34, 35, 36, 37, 38, 39, 40, 41, 42, 43, 44, 45, 46, 47, 48, 49]\n",
      "[10 11 12 13 14 15 16 17 18 19 20 21 22 23 24 25 26 27 28 29 30 31 32 33\n",
      " 34 35 36 37 38 39 40 41 42 43 44 45 46 47 48 49]\n",
      "[10 11 12 13 14 15 16 17 18 19 20 21 22 23 24 25 26 27 28 29 30 31 32 33\n",
      " 34 35 36 37 38 39 40 41 42 43 44 45 46 47 48 49]\n",
      "(40,)\n"
     ]
    }
   ],
   "source": [
    "arr = list(range(10,50))\n",
    "print(arr)\n",
    "vecE = np.array(arr);\n",
    "print(vecE)\n",
    "vecF = np.arange(10,50)\n",
    "print(vecF)\n",
    "print(vecF.shape) #To verify that the vector is 1d or not"
   ]
  },
  {
   "cell_type": "markdown",
   "metadata": {},
   "source": [
    "## Task 6\n",
    "- create any 1d vector, then reverce it, such that last element will be on the first position"
   ]
  },
  {
   "cell_type": "code",
   "execution_count": 28,
   "metadata": {},
   "outputs": [
    {
     "name": "stdout",
     "output_type": "stream",
     "text": [
      "[0 1 2 3 4 5 6 7 8 9]\n",
      "[9 8 7 6 5 4 3 2 1 0]\n"
     ]
    }
   ],
   "source": [
    "vecG = np.arange((10));\n",
    "print(vecG)\n",
    "vecH = np.flip(vecG)\n",
    "print(vecH)"
   ]
  },
  {
   "cell_type": "markdown",
   "metadata": {},
   "source": [
    "## Task 7\n",
    "- create 2d 3x3 array / matrix, filled with numbers from 0 to 8"
   ]
  },
  {
   "cell_type": "code",
   "execution_count": 30,
   "metadata": {},
   "outputs": [
    {
     "name": "stdout",
     "output_type": "stream",
     "text": [
      "[[0 1 2]\n",
      " [3 4 5]\n",
      " [6 7 8]]\n"
     ]
    }
   ],
   "source": [
    "vecI = np.arange(0,9).reshape(3,3)\n",
    "print(vecI)"
   ]
  },
  {
   "cell_type": "markdown",
   "metadata": {},
   "source": [
    "## Task 8\n",
    "- create 3x3 matrix filled with ones"
   ]
  },
  {
   "cell_type": "code",
   "execution_count": 36,
   "metadata": {},
   "outputs": [
    {
     "name": "stdout",
     "output_type": "stream",
     "text": [
      "[[1. 1. 1.]\n",
      " [1. 1. 1.]\n",
      " [1. 1. 1.]]\n"
     ]
    }
   ],
   "source": [
    "vecJ = np.ones(9).reshape(3,3)\n",
    "print(vecJ)"
   ]
  },
  {
   "cell_type": "markdown",
   "metadata": {},
   "source": [
    "## Task 9\n",
    "- create 3x3 matrix filled with random numbers"
   ]
  },
  {
   "cell_type": "code",
   "execution_count": 47,
   "metadata": {},
   "outputs": [
    {
     "name": "stdout",
     "output_type": "stream",
     "text": [
      "[[0.38670197 0.89964218 0.86187496]\n",
      " [0.19754391 0.63392395 0.76126707]\n",
      " [0.51780454 0.40347893 0.79022306]]\n"
     ]
    }
   ],
   "source": [
    "vecK = np.random.rand(3,3)\n",
    "print(vecK)"
   ]
  },
  {
   "cell_type": "markdown",
   "metadata": {},
   "source": [
    "## Task 10\n",
    "- create 3x3x3 array filled with random numbers"
   ]
  },
  {
   "cell_type": "code",
   "execution_count": 87,
   "metadata": {},
   "outputs": [
    {
     "name": "stdout",
     "output_type": "stream",
     "text": [
      "[[[2184   31  313]\n",
      "  [  81 2600 2296]\n",
      "  [  43 2195 1085]]\n",
      "\n",
      " [[1872 1366 1952]\n",
      "  [1259 1624 1511]\n",
      "  [ 942 1216  171]]\n",
      "\n",
      " [[2680  745 2977]\n",
      "  [1779 2034 1268]\n",
      "  [1077  703  259]]]\n",
      "[[[0.92342837 0.32588111 0.8925312 ]\n",
      "  [0.88426415 0.32797804 0.14428695]\n",
      "  [0.12647944 0.36793295 0.6207224 ]]\n",
      "\n",
      " [[0.32225658 0.47244823 0.02405366]\n",
      "  [0.43931294 0.96326194 0.85220097]\n",
      "  [0.26022867 0.52546087 0.01358913]]\n",
      "\n",
      " [[0.64311907 0.85346359 0.90213847]\n",
      "  [0.40618979 0.27327512 0.51624344]\n",
      "  [0.34305461 0.29270707 0.82495737]]]\n"
     ]
    }
   ],
   "source": [
    "vec10 = np.random.randint(1,3000,(3,3,3))\n",
    "print(vec10)\n",
    "vec101 = np.random.rand(3,3,3)\n",
    "print(vec101)"
   ]
  },
  {
   "cell_type": "markdown",
   "metadata": {},
   "source": [
    "## Task 11\n",
    "- create 10x10 matrix filled with random numbers and find minimal and maximal elements"
   ]
  },
  {
   "cell_type": "code",
   "execution_count": 86,
   "metadata": {},
   "outputs": [
    {
     "name": "stdout",
     "output_type": "stream",
     "text": [
      "[[726 362 440 760  29 770 670 718 455 511]\n",
      " [985 500 722 156 875 833 534  76 340 662]\n",
      " [517 185 177  47 212 420 284 905 979 861]\n",
      " [522 243 304 951 905 651 509 825 911 513]\n",
      " [650 392 468 267 261 206 445 791 434 770]\n",
      " [944 763 445 666 160 474 132 573 383 963]\n",
      " [885 427 380 937 518 887 463 633 382 457]\n",
      " [697 247 171 405 566 959 759 812 865 260]\n",
      " [321 958 344 952 345 122 276 199 822 962]\n",
      " [883 623 526 695 609 295 867 357 986 156]]\n",
      "29\n",
      "986\n"
     ]
    }
   ],
   "source": [
    "mat11 = np.random.randint(1,1000,(10,10))\n",
    "min11 = np.amin(mat11)\n",
    "max11 = np.amax(mat11)\n",
    "print(mat11)\n",
    "print(min11)\n",
    "print(max11)\n"
   ]
  },
  {
   "cell_type": "markdown",
   "metadata": {},
   "source": [
    "## Task 12\n",
    "- create a random 1d vector of size 30 and find average of them"
   ]
  },
  {
   "cell_type": "code",
   "execution_count": 93,
   "metadata": {},
   "outputs": [
    {
     "name": "stdout",
     "output_type": "stream",
     "text": [
      "[ 730 1500  591  705 2821 2949  403 1165 1329 1125 2310 2953  569 2768\n",
      " 2482 1246 2650 1712 1404 1861 1707 2504 2656 2713 1949  922 1830  434\n",
      " 1286 1153]\n",
      "1680.9\n"
     ]
    }
   ],
   "source": [
    "vec12 = np.random.randint(1,3000,(30)) #Random array of 30 index values \n",
    "avg12 = np.average(vec12)\n",
    "print(vec12)\n",
    "print(avg12)"
   ]
  },
  {
   "cell_type": "markdown",
   "metadata": {},
   "source": [
    "## Task 13\n",
    "- create 5x5 matrix, which has ones on a \"frame\" and zeros inside"
   ]
  },
  {
   "cell_type": "code",
   "execution_count": 202,
   "metadata": {},
   "outputs": [
    {
     "name": "stdout",
     "output_type": "stream",
     "text": [
      "[[1. 1. 1. 1. 1.]\n",
      " [1. 0. 0. 0. 1.]\n",
      " [1. 0. 0. 0. 1.]\n",
      " [1. 0. 0. 0. 1.]\n",
      " [1. 1. 1. 1. 1.]]\n"
     ]
    }
   ],
   "source": [
    "mat13 = np.zeros((5,5),float)\n",
    "\n",
    "for ind1,i in enumerate(mat13):\n",
    "    for ind2, j in enumerate(i):\n",
    "        if(ind1 == 0):\n",
    "            mat13[ind1][ind2] = 1\n",
    "        elif(ind1 == 4):\n",
    "            mat13[ind1][ind2] = 1\n",
    "        elif(ind2 == 0) or (ind2 ==4):\n",
    "            mat13[ind1][ind2] = 1\n",
    "\n",
    "print(mat13)"
   ]
  },
  {
   "cell_type": "markdown",
   "metadata": {},
   "source": [
    "## Task 14\n",
    "- create 8x8 matrix\n",
    "- fill it with ones and zeros in a \"chess\" order\n",
    "- **don't use** `tile` funtion"
   ]
  },
  {
   "cell_type": "code",
   "execution_count": 147,
   "metadata": {},
   "outputs": [
    {
     "name": "stdout",
     "output_type": "stream",
     "text": [
      "[[0. 1. 0. 1. 0. 1. 0. 1.]\n",
      " [1. 0. 1. 0. 1. 0. 1. 0.]\n",
      " [0. 1. 0. 1. 0. 1. 0. 1.]\n",
      " [1. 0. 1. 0. 1. 0. 1. 0.]\n",
      " [0. 1. 0. 1. 0. 1. 0. 1.]\n",
      " [1. 0. 1. 0. 1. 0. 1. 0.]\n",
      " [0. 1. 0. 1. 0. 1. 0. 1.]\n",
      " [1. 0. 1. 0. 1. 0. 1. 0.]]\n"
     ]
    }
   ],
   "source": [
    "mat14 = np.ones((8,8))\n",
    "\n",
    "for ind1,i in enumerate(mat14):\n",
    "    for ind2, j in enumerate(i):\n",
    "        if(ind1 % 2  == 0):\n",
    "            if(ind2 % 2 == 0):\n",
    "                mat14[ind1][ind2] = 0\n",
    "            else:\n",
    "                mat14[ind1][ind2] = 1\n",
    "        else:\n",
    "            if(ind2 % 2 != 0):\n",
    "                 mat14[ind1][ind2] = 0\n",
    "\n",
    "print(mat14)"
   ]
  },
  {
   "cell_type": "markdown",
   "metadata": {},
   "source": [
    "## Task 15\n",
    "- create 8x8 matrix\n",
    "- fill it with ones and zeros in a \"chess\" order\n",
    "- **use** `tile` funtion"
   ]
  },
  {
   "cell_type": "code",
   "execution_count": 203,
   "metadata": {},
   "outputs": [
    {
     "name": "stdout",
     "output_type": "stream",
     "text": [
      "[[1. 0. 1. 0. 1. 0. 1. 0.]\n",
      " [0. 1. 0. 1. 0. 1. 0. 1.]\n",
      " [1. 0. 1. 0. 1. 0. 1. 0.]\n",
      " [0. 1. 0. 1. 0. 1. 0. 1.]\n",
      " [1. 0. 1. 0. 1. 0. 1. 0.]\n",
      " [0. 1. 0. 1. 0. 1. 0. 1.]\n",
      " [1. 0. 1. 0. 1. 0. 1. 0.]\n",
      " [0. 1. 0. 1. 0. 1. 0. 1.]]\n"
     ]
    }
   ],
   "source": [
    "mat15 = np.empty((8,8))\n",
    "oneZ = np.array([1,0])\n",
    "zOne = np.array([0,1])\n",
    "\n",
    "for i in range(8):\n",
    "    if(i == 0) or (i %2 == 0):\n",
    "        mat15[i] = np.tile(oneZ,4)\n",
    "    else:\n",
    "        mat15[i] = np.tile(zOne,4)\n",
    "\n",
    "print(mat15)"
   ]
  },
  {
   "cell_type": "markdown",
   "metadata": {},
   "source": [
    "## Task 16\n",
    "- create two random matrices 5x3 and 3x2\n",
    "- multiply them"
   ]
  },
  {
   "cell_type": "code",
   "execution_count": 159,
   "metadata": {},
   "outputs": [
    {
     "ename": "ValueError",
     "evalue": "operands could not be broadcast together with shapes (5,3) (3,2) ",
     "output_type": "error",
     "traceback": [
      "\u001b[0;31m---------------------------------------------------------------------------\u001b[0m",
      "\u001b[0;31mValueError\u001b[0m                                Traceback (most recent call last)",
      "\u001b[0;32m<ipython-input-159-c8ce6c6c1cad>\u001b[0m in \u001b[0;36m<module>\u001b[0;34m\u001b[0m\n\u001b[1;32m      5\u001b[0m \u001b[0my\u001b[0m \u001b[0;34m=\u001b[0m \u001b[0mnp\u001b[0m\u001b[0;34m.\u001b[0m\u001b[0marange\u001b[0m\u001b[0;34m(\u001b[0m\u001b[0;36m6\u001b[0m\u001b[0;34m)\u001b[0m\u001b[0;34m.\u001b[0m\u001b[0mreshape\u001b[0m\u001b[0;34m(\u001b[0m\u001b[0;36m3\u001b[0m\u001b[0;34m,\u001b[0m\u001b[0;36m2\u001b[0m\u001b[0;34m)\u001b[0m\u001b[0;34m\u001b[0m\u001b[0m\n\u001b[1;32m      6\u001b[0m \u001b[0;34m\u001b[0m\u001b[0m\n\u001b[0;32m----> 7\u001b[0;31m \u001b[0mmat16\u001b[0m \u001b[0;34m=\u001b[0m \u001b[0mnp\u001b[0m\u001b[0;34m.\u001b[0m\u001b[0mmultiply\u001b[0m\u001b[0;34m(\u001b[0m\u001b[0mx\u001b[0m\u001b[0;34m,\u001b[0m\u001b[0my\u001b[0m\u001b[0;34m)\u001b[0m\u001b[0;34m\u001b[0m\u001b[0m\n\u001b[0m\u001b[1;32m      8\u001b[0m \u001b[0mprint\u001b[0m\u001b[0;34m(\u001b[0m\u001b[0mmat16\u001b[0m\u001b[0;34m)\u001b[0m\u001b[0;34m\u001b[0m\u001b[0m\n",
      "\u001b[0;31mValueError\u001b[0m: operands could not be broadcast together with shapes (5,3) (3,2) "
     ]
    }
   ],
   "source": [
    "mat16a = np.random.randint(1, 10, size = (5,3))\n",
    "mat16b = np.random.randint(1, 10, size = (3,2))\n",
    "\n",
    "x = np.arange(15).reshape(5,3)\n",
    "y = np.arange(6).reshape(3,2)\n",
    "\n",
    "mat16 = np.multiply(x,y)\n",
    "print(mat16)"
   ]
  },
  {
   "cell_type": "markdown",
   "metadata": {},
   "source": [
    "## Task 17\n",
    "- create array of size 100 filled with random numbers from 0 to 10\n",
    "- chenge sign of all numbers which are in a range between 3 and 8"
   ]
  },
  {
   "cell_type": "code",
   "execution_count": 188,
   "metadata": {},
   "outputs": [
    {
     "name": "stdout",
     "output_type": "stream",
     "text": [
      "[-4 -6  9  0 -6 -5 -4  9 -6 -5 -4  0 -8  0 -5 -8 -7 -5 -3 -5 -6 -3  0 -7\n",
      " -6 -3 -4  2  2  2 -5 -8 -3 -3 -6 -4  2 -4  2  9 -7  9 -7 -4  1  9 -8  2\n",
      " -6  0  2 -8 -7 -5 -3  9  1 -4  0  9  2  1  2 -4 -7 -8  1  9 -7 -3 -7 -5\n",
      " -7  1 -8  1 -8 -7 -4  9  0  0  2 -7  0 -4 -3 -6 -6  9  2  1  9 -7 -3  2\n",
      " -8 -4 -5  2]\n"
     ]
    }
   ],
   "source": [
    "mat17 = np.random.randint(0,10,(100,))\n",
    "\n",
    "for index,val in enumerate(mat17):\n",
    "    if((val >= 3) and (val <= 8)):\n",
    "        mat17[index] = np.negative(mat17[index])\n",
    "        \n",
    "print(mat17)"
   ]
  },
  {
   "cell_type": "markdown",
   "metadata": {},
   "source": [
    "## Task 18\n",
    "- create a matrix 5x5 such that each row would be a 1d array filled with numbers from 0 to 4"
   ]
  },
  {
   "cell_type": "code",
   "execution_count": 207,
   "metadata": {},
   "outputs": [
    {
     "name": "stdout",
     "output_type": "stream",
     "text": [
      "[[0. 1. 2. 3. 4.]\n",
      " [0. 1. 2. 3. 4.]\n",
      " [0. 1. 2. 3. 4.]\n",
      " [0. 1. 2. 3. 4.]\n",
      " [0. 1. 2. 3. 4.]]\n"
     ]
    }
   ],
   "source": [
    "arr = np.arange(5)\n",
    "\n",
    "for i in range(5):\n",
    "    mat18[i] = arr;\n",
    "\n",
    "print(mat18)\n",
    "    "
   ]
  },
  {
   "cell_type": "markdown",
   "metadata": {},
   "source": [
    "## Task 19\n",
    "- create 1d vector of size 100 filled with random values from range 0-1, excluding boundary values (no exact 0/1)"
   ]
  },
  {
   "cell_type": "code",
   "execution_count": 215,
   "metadata": {},
   "outputs": [
    {
     "name": "stdout",
     "output_type": "stream",
     "text": [
      "[0.04652301 0.7706494  0.70641019 0.38780664 0.87813741 0.60747564\n",
      " 0.54187898 0.34595877 0.22007713 0.47609011 0.27521294 0.51224581\n",
      " 0.76235038 0.68777275 0.37244453 0.4185565  0.2012166  0.81769688\n",
      " 0.2031388  0.53727258 0.10961439 0.29990422 0.72496991 0.48418031\n",
      " 0.15948978 0.43204388 0.79645915 0.32442946 0.80620287 0.1718355\n",
      " 0.62726692 0.40025758 0.52621152 0.46026162 0.87718235 0.32482283\n",
      " 0.08751672 0.95420997 0.21637956 0.96342623 0.70387923 0.55215416\n",
      " 0.00526572 0.66427477 0.73706649 0.85705039 0.2279074  0.97622564\n",
      " 0.59064303 0.94705551 0.23920592 0.70685305 0.38289077 0.64620745\n",
      " 0.20278346 0.3521781  0.617146   0.67101374 0.8741148  0.46399183\n",
      " 0.23304344 0.38706621 0.01271983 0.81267361 0.40165343 0.38083964\n",
      " 0.92099375 0.99857012 0.04498752 0.44814118 0.81975803 0.54846485\n",
      " 0.47131457 0.21408416 0.19851596 0.52404702 0.78383481 0.22894833\n",
      " 0.50260308 0.78768051 0.01762638 0.01367078 0.70042917 0.1567204\n",
      " 0.47976437 0.70054219 0.90872698 0.789876   0.44441162 0.89722639\n",
      " 0.26234363 0.72395786 0.59723325 0.22807337 0.8911564  0.26155143\n",
      " 0.50114188 0.88117013 0.76349873 0.33786043]\n"
     ]
    }
   ],
   "source": [
    "vec19 = np.random.rand((100))\n",
    "print(vec19)"
   ]
  },
  {
   "cell_type": "markdown",
   "metadata": {},
   "source": [
    "## Task 20\n",
    "- create a 10x2 random matrix filled with number from range 0-100\n",
    "- consider it as points in Cartesian plain\n",
    "- convert to polar system of coordinates"
   ]
  },
  {
   "cell_type": "code",
   "execution_count": null,
   "metadata": {},
   "outputs": [],
   "source": []
  },
  {
   "cell_type": "markdown",
   "metadata": {},
   "source": [
    "## Task 21\n",
    "- create random 13x13 matrix, replace maximal element to zero"
   ]
  },
  {
   "cell_type": "code",
   "execution_count": null,
   "metadata": {},
   "outputs": [],
   "source": []
  },
  {
   "cell_type": "markdown",
   "metadata": {},
   "source": [
    "## Task 22\n",
    "- create two 1d arrays with random values\n",
    "- make a Cauchy matrix from them $C (C_{ij} = \\frac{1}{x_i - y_j})$"
   ]
  },
  {
   "cell_type": "markdown",
   "metadata": {},
   "source": []
  },
  {
   "cell_type": "markdown",
   "metadata": {},
   "source": [
    "## Task 23\n",
    "- create an array of random `float` numbers and convert it to `int`"
   ]
  },
  {
   "cell_type": "code",
   "execution_count": 78,
   "metadata": {},
   "outputs": [
    {
     "ename": "TypeError",
     "evalue": "descriptor 'astype' requires a 'numpy.ndarray' object but received a 'type'",
     "output_type": "error",
     "traceback": [
      "\u001b[0;31m---------------------------------------------------------------------------\u001b[0m",
      "\u001b[0;31mTypeError\u001b[0m                                 Traceback (most recent call last)",
      "\u001b[0;32m<ipython-input-78-c79e3d746628>\u001b[0m in \u001b[0;36m<module>\u001b[0;34m\u001b[0m\n\u001b[1;32m      1\u001b[0m \u001b[0marr23\u001b[0m \u001b[0;34m=\u001b[0m \u001b[0mnp\u001b[0m\u001b[0;34m.\u001b[0m\u001b[0mrandom\u001b[0m\u001b[0;34m.\u001b[0m\u001b[0mrand\u001b[0m\u001b[0;34m(\u001b[0m\u001b[0;36m100\u001b[0m\u001b[0;34m)\u001b[0m \u001b[0;31m#.astype(np.int)\u001b[0m\u001b[0;34m\u001b[0m\u001b[0m\n\u001b[0;32m----> 2\u001b[0;31m \u001b[0marr231\u001b[0m \u001b[0;34m=\u001b[0m \u001b[0mnp\u001b[0m\u001b[0;34m.\u001b[0m\u001b[0mndarray\u001b[0m\u001b[0;34m.\u001b[0m\u001b[0mastype\u001b[0m\u001b[0;34m(\u001b[0m\u001b[0mint\u001b[0m\u001b[0;34m,\u001b[0m\u001b[0marr23\u001b[0m\u001b[0;34m)\u001b[0m\u001b[0;34m\u001b[0m\u001b[0m\n\u001b[0m\u001b[1;32m      3\u001b[0m \u001b[0mprint\u001b[0m\u001b[0;34m(\u001b[0m\u001b[0marr23\u001b[0m\u001b[0;34m)\u001b[0m\u001b[0;34m\u001b[0m\u001b[0m\n",
      "\u001b[0;31mTypeError\u001b[0m: descriptor 'astype' requires a 'numpy.ndarray' object but received a 'type'"
     ]
    }
   ],
   "source": [
    "arr23 = np.random.rand(100) #.astype(np.int)\n",
    "#arr231 = np.ndarray.astype(int,arr23)\n",
    "print(arr23)\n"
   ]
  },
  {
   "cell_type": "code",
   "execution_count": null,
   "metadata": {},
   "outputs": [],
   "source": []
  },
  {
   "cell_type": "markdown",
   "metadata": {},
   "source": [
    "## Task 24\n",
    "- create 1d array of numbers from 0 to 15\n",
    "- put each of them in random positions inside 4x4 matrix"
   ]
  },
  {
   "cell_type": "code",
   "execution_count": 166,
   "metadata": {},
   "outputs": [
    {
     "name": "stdout",
     "output_type": "stream",
     "text": [
      "[[12 13 14 15]\n",
      " [ 0  1  2  3]\n",
      " [ 8  9 10 11]\n",
      " [ 4  5  6  7]]\n"
     ]
    }
   ],
   "source": [
    "mat24 = np.arange(0,16).reshape(4,4)\n",
    "\n",
    "np.random.shuffle(mat24)\n",
    "\n",
    "print(mat24)"
   ]
  },
  {
   "cell_type": "markdown",
   "metadata": {},
   "source": [
    "## Task 25\n",
    "- create random 100x50 matrix\n",
    "- deduct avarage of each row from correspondatn rows"
   ]
  },
  {
   "cell_type": "code",
   "execution_count": 56,
   "metadata": {},
   "outputs": [
    {
     "name": "stdout",
     "output_type": "stream",
     "text": [
      "[[29 99 74 ... 55 44 10]\n",
      " [67  6 82 ...  8 25 30]\n",
      " [77  7 54 ... 51 47 45]\n",
      " ...\n",
      " [50 40 33 ... 55 50 65]\n",
      " [79 13 11 ... 86 36  4]\n",
      " [29 23  2 ... 63 23 30]]\n"
     ]
    }
   ],
   "source": [
    "mat25 = np.random.randint(100,size=(100,50))\n",
    "print(mat25)"
   ]
  },
  {
   "cell_type": "markdown",
   "metadata": {},
   "source": [
    "## Task 26 \n",
    "- create random 10x10 matrix\n",
    "- extract diagonal elements and put them into 1d array"
   ]
  },
  {
   "cell_type": "code",
   "execution_count": 218,
   "metadata": {},
   "outputs": [
    {
     "name": "stdout",
     "output_type": "stream",
     "text": [
      "[[ 4 74 61  2 73  4  7 67 73  1]\n",
      " [56 24 70 34 88  8 40  5 72 75]\n",
      " [84 68 31 15 29  2 88 45 66 26]\n",
      " [ 3 65 83 49  8 37 66  8 65 78]\n",
      " [79  5 98 40 58 91  6 77 43 55]\n",
      " [79  7 38 62 85 84 29 17 90 92]\n",
      " [64 84 18 10 29 72  1  0 11 43]\n",
      " [76 80  9 88 19 57 99 62  6  1]\n",
      " [35 77 50 33 24 88 40  1 75  6]\n",
      " [35  4 21 89 70 70 94 32 79  6]]\n",
      "[ 4 24 31 49 58 84  1 62 75  6]\n"
     ]
    }
   ],
   "source": [
    "mat26 = np.random.randint(100,size=(10,10))\n",
    "\n",
    "print(mat26)\n",
    "\n",
    "vec26 = mat26.diagonal()\n",
    "\n",
    "print(vec26)"
   ]
  },
  {
   "cell_type": "markdown",
   "metadata": {},
   "source": [
    "## Task 27\n",
    "- given a vector `[1, 2, 3, 4, 5]`\n",
    "- build a new vertor with three zeros between each element"
   ]
  },
  {
   "cell_type": "code",
   "execution_count": 209,
   "metadata": {},
   "outputs": [],
   "source": [
    "vecA = np.array([1,2,3,4,5])\n",
    "\n",
    "arrA = np.array([0,0,0])\n",
    "\n",
    "#for index.val in enumerate(vecA):\n",
    "    \n",
    "    "
   ]
  }
 ],
 "metadata": {
  "kernelspec": {
   "display_name": "Python 3",
   "language": "python",
   "name": "python3"
  },
  "language_info": {
   "codemirror_mode": {
    "name": "ipython",
    "version": 3
   },
   "file_extension": ".py",
   "mimetype": "text/x-python",
   "name": "python",
   "nbconvert_exporter": "python",
   "pygments_lexer": "ipython3",
   "version": "3.6.6"
  }
 },
 "nbformat": 4,
 "nbformat_minor": 2
}
